{
 "cells": [
  {
   "cell_type": "code",
   "execution_count": 5,
   "id": "db5f79a2",
   "metadata": {},
   "outputs": [],
   "source": [
    "import sys\n",
    "import os\n",
    "sys.path.append(os.path.abspath(\"..\"))\n",
    "import weather_sql_project.fetch_weather as fw\n",
    "import weather_sql_project.database_manager as db\n",
    "import importlib\n",
    "importlib.reload(db)\n",
    "importlib.reload(fw)\n",
    "from weather_sql_project.fetch_weather import fetch_weather\n",
    "from weather_sql_project.database_manager import create_table,insert_weather,update_weather,delete_weather,query_all"
   ]
  },
  {
   "cell_type": "code",
   "execution_count": 6,
   "id": "91cc06a6",
   "metadata": {},
   "outputs": [
    {
     "name": "stdout",
     "output_type": "stream",
     "text": [
      "Imported from: d:\\1StepGrow DS Course\\Assignment\\weather_sql_project\\fetch_weather.py\n"
     ]
    }
   ],
   "source": [
    "import weather_sql_project.fetch_weather as fw\n",
    "print(\"Imported from:\", fw.__file__)\n"
   ]
  },
  {
   "cell_type": "code",
   "execution_count": 7,
   "id": "4d686cd2",
   "metadata": {},
   "outputs": [
    {
     "name": "stdout",
     "output_type": "stream",
     "text": [
      "Status code: 200\n",
      "Response JSON: {'coord': {'lon': 55.3047, 'lat': 25.2582}, 'weather': [{'id': 800, 'main': 'Clear', 'description': 'clear sky', 'icon': '01n'}], 'base': 'stations', 'main': {'temp': 30.96, 'feels_like': 33.59, 'temp_min': 30.14, 'temp_max': 30.96, 'pressure': 1011, 'humidity': 55, 'sea_level': 1011, 'grnd_level': 1010}, 'visibility': 10000, 'wind': {'speed': 5.14, 'deg': 320}, 'clouds': {'all': 0}, 'dt': 1761837903, 'sys': {'type': 1, 'id': 7537, 'country': 'AE', 'sunrise': 1761791108, 'sunset': 1761831574}, 'timezone': 14400, 'id': 292223, 'name': 'Dubai', 'cod': 200}\n"
     ]
    }
   ],
   "source": [
    "import requests\n",
    "\n",
    "# Use your actual API key here\n",
    "api_key = \"8e3954cd882b7bec03374371adb91088\"\n",
    "\n",
    "url = f\"https://api.openweathermap.org/data/2.5/weather?q=Dubai&appid={api_key}&units=metric\"\n",
    "response = requests.get(url)\n",
    "\n",
    "print(\"Status code:\", response.status_code)\n",
    "print(\"Response JSON:\", response.json())\n"
   ]
  },
  {
   "cell_type": "code",
   "execution_count": 8,
   "id": "16c7497b",
   "metadata": {},
   "outputs": [
    {
     "name": "stdout",
     "output_type": "stream",
     "text": [
      "Error fetching Dubai: 401\n",
      "Error fetching London: 401\n",
      "Error fetching Mumbai: 401\n",
      "Error fetching New York: 401\n",
      "Error fetching Sydney: 401\n",
      "Error fetching Islamabd: 401\n",
      "Error fetching Melborn: 401\n",
      "Error fetching California: 401\n",
      "Error fetching Karachi: 401\n",
      "Error fetching Delhi: 401\n"
     ]
    }
   ],
   "source": [
    "# From supporting files bring all data to one file\n",
    "\n",
    "def main():\n",
    "    create_table()\n",
    "    cities=[\"Dubai\", \"London\", \"Mumbai\", \"New York\", \"Sydney\",\"Islamabd\",\"Melborn\",\"California\",\"Karachi\",\"Delhi\"]\n",
    "\n",
    "    # Fetch and Insert Weather\n",
    "\n",
    "    for city in cities:\n",
    "        data=fetch_weather(city)\n",
    "\n",
    "        if data:\n",
    "            insert_weather(data)\n",
    "            print(f\"Inserted:{city}\")\n",
    "\n",
    "    # Display All Records\n",
    "    for row in query_all():\n",
    "        print(f\"All Records; {row}\")\n",
    "\n",
    "    # Updating city data\n",
    "    update_weather(\"Islamabad\",32.6)\n",
    "\n",
    "    # Deleting city data\n",
    "    delete_weather(\"Dubai\")\n",
    "\n",
    "if __name__==\"__main__\":\n",
    "    main()"
   ]
  },
  {
   "cell_type": "code",
   "execution_count": null,
   "id": "6e9529c6",
   "metadata": {},
   "outputs": [],
   "source": []
  }
 ],
 "metadata": {
  "kernelspec": {
   "display_name": "base",
   "language": "python",
   "name": "python3"
  },
  "language_info": {
   "codemirror_mode": {
    "name": "ipython",
    "version": 3
   },
   "file_extension": ".py",
   "mimetype": "text/x-python",
   "name": "python",
   "nbconvert_exporter": "python",
   "pygments_lexer": "ipython3",
   "version": "3.13.5"
  }
 },
 "nbformat": 4,
 "nbformat_minor": 5
}
